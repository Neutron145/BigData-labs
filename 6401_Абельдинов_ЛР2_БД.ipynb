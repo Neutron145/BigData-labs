{
  "nbformat": 4,
  "nbformat_minor": 0,
  "metadata": {
    "colab": {
      "provenance": []
    },
    "kernelspec": {
      "name": "python3",
      "display_name": "Python 3"
    },
    "language_info": {
      "name": "python"
    }
  },
  "cells": [
    {
      "cell_type": "markdown",
      "source": [
        "# ЛР2\n",
        "Абельдинов Рафаэль\n",
        "\n",
        "## Задание\n",
        "---\n",
        "Сформировать отчет с информацией о 10 наиболее популярных языках программирования по итогам года за период с 2010 по 2020 годы. Отчёт будет отражать динамику изменения популярности языкаов прогарммирования и представлять собой набор таблиц \"топ-10\" для каждого года.\n",
        "\n",
        "Получившийся отчет сохранить в формате Apache Parquet."
      ],
      "metadata": {
        "id": "3mV0AMOyPV-V"
      }
    },
    {
      "cell_type": "code",
      "execution_count": null,
      "metadata": {
        "id": "Bpi5WQL5PMkb"
      },
      "outputs": [],
      "source": [
        "import os\n",
        "import sys\n",
        "from pyspark.sql import Row\n",
        "import pyspark.sql.functions as F\n",
        "from pyspark.sql import SparkSession"
      ]
    },
    {
      "cell_type": "code",
      "source": [
        "# Задаем переменные окружения для корректной работы\n",
        "os.environ['PYSPARK_PYTHON'] = sys.executable\n",
        "os.environ['PYSPARK_DRIVER_PYTHON'] = sys.executable\n",
        "os.environ['PYSPARK_SUBMIT_ARGS'] = '--packages com.databricks:spark-xml_2.12:0.17.0 pyspark-shell'\n",
        "\n",
        "spark = SparkSession.builder.getOrCreate()\n",
        "spark"
      ],
      "metadata": {
        "colab": {
          "base_uri": "https://localhost:8080/",
          "height": 222
        },
        "id": "XNX3HoGrP2zM",
        "outputId": "4e25fa90-f358-46a2-a615-7677c84802eb"
      },
      "execution_count": null,
      "outputs": [
        {
          "output_type": "execute_result",
          "data": {
            "text/plain": [
              "<pyspark.sql.session.SparkSession at 0x7b714c1c4f10>"
            ],
            "text/html": [
              "\n",
              "            <div>\n",
              "                <p><b>SparkSession - in-memory</b></p>\n",
              "                \n",
              "        <div>\n",
              "            <p><b>SparkContext</b></p>\n",
              "\n",
              "            <p><a href=\"http://4f41a7983f37:4040\">Spark UI</a></p>\n",
              "\n",
              "            <dl>\n",
              "              <dt>Version</dt>\n",
              "                <dd><code>v3.5.5</code></dd>\n",
              "              <dt>Master</dt>\n",
              "                <dd><code>local[*]</code></dd>\n",
              "              <dt>AppName</dt>\n",
              "                <dd><code>pyspark-shell</code></dd>\n",
              "            </dl>\n",
              "        </div>\n",
              "        \n",
              "            </div>\n",
              "        "
            ]
          },
          "metadata": {},
          "execution_count": 2
        }
      ]
    },
    {
      "cell_type": "code",
      "source": [
        "# Скачиваем датасеты из репозитория\n",
        "!wget https://git.ai.ssau.ru/tk/big_data/raw/branch/master/data/posts_sample.xml\n",
        "!wget https://git.ai.ssau.ru/tk/big_data/raw/branch/master/data/programming-languages.csv"
      ],
      "metadata": {
        "colab": {
          "base_uri": "https://localhost:8080/"
        },
        "id": "lf1pL3JXQYZD",
        "outputId": "62837dab-bc7a-4aa3-f7de-567dd0390bd0"
      },
      "execution_count": null,
      "outputs": [
        {
          "output_type": "stream",
          "name": "stdout",
          "text": [
            "--2025-03-26 09:42:28--  https://git.ai.ssau.ru/tk/big_data/raw/branch/master/data/posts_sample.xml\n",
            "Resolving git.ai.ssau.ru (git.ai.ssau.ru)... 91.222.131.161\n",
            "Connecting to git.ai.ssau.ru (git.ai.ssau.ru)|91.222.131.161|:443... connected.\n",
            "HTTP request sent, awaiting response... 200 OK\n",
            "Length: 74162295 (71M) [text/plain]\n",
            "Saving to: ‘posts_sample.xml.5’\n",
            "\n",
            "posts_sample.xml.5   98%[==================> ]  69.48M  --.-KB/s    eta 22s    ^C\n",
            "--2025-03-26 10:03:07--  https://git.ai.ssau.ru/tk/big_data/raw/branch/master/data/programming-languages.csv\n",
            "Resolving git.ai.ssau.ru (git.ai.ssau.ru)... 91.222.131.161\n",
            "Connecting to git.ai.ssau.ru (git.ai.ssau.ru)|91.222.131.161|:443... connected.\n",
            "HTTP request sent, awaiting response... 200 OK\n",
            "Length: 40269 (39K) [text/plain]\n",
            "Saving to: ‘programming-languages.csv.4’\n",
            "\n",
            "programming-languag 100%[===================>]  39.33K   132KB/s    in 0.3s    \n",
            "\n",
            "2025-03-26 10:03:08 (132 KB/s) - ‘programming-languages.csv.4’ saved [40269/40269]\n",
            "\n"
          ]
        }
      ]
    },
    {
      "cell_type": "code",
      "source": [
        "# Загружаем датасеты с помощью Spark\n",
        "postsData = spark.read.format('xml').option('rowTag', 'row').option(\"timestampFormat\", 'y/M/d H:m:s').load('posts_sample.xml')\n",
        "langData = spark.read.format('csv').option('header', 'true').option(\"inferSchema\", True).load('programming-languages.csv').dropna()"
      ],
      "metadata": {
        "id": "55zsvSvrSZlZ"
      },
      "execution_count": null,
      "outputs": []
    },
    {
      "cell_type": "code",
      "source": [
        "print(\"Schema: \")\n",
        "postsData.printSchema()\n",
        "print(\"\\n\\nData:\")\n",
        "postsData.show(n = 2)\n",
        "print(\"\\n\\nSummary:\")\n",
        "postsData.describe().show()"
      ],
      "metadata": {
        "colab": {
          "base_uri": "https://localhost:8080/"
        },
        "id": "5ZOcB-c_TfRj",
        "outputId": "05faf077-af75-479e-954b-44977d9252f1"
      },
      "execution_count": null,
      "outputs": [
        {
          "output_type": "stream",
          "name": "stdout",
          "text": [
            "Schema: \n",
            "root\n",
            " |-- _AcceptedAnswerId: long (nullable = true)\n",
            " |-- _AnswerCount: long (nullable = true)\n",
            " |-- _Body: string (nullable = true)\n",
            " |-- _ClosedDate: timestamp (nullable = true)\n",
            " |-- _CommentCount: long (nullable = true)\n",
            " |-- _CommunityOwnedDate: timestamp (nullable = true)\n",
            " |-- _CreationDate: timestamp (nullable = true)\n",
            " |-- _FavoriteCount: long (nullable = true)\n",
            " |-- _Id: long (nullable = true)\n",
            " |-- _LastActivityDate: timestamp (nullable = true)\n",
            " |-- _LastEditDate: timestamp (nullable = true)\n",
            " |-- _LastEditorDisplayName: string (nullable = true)\n",
            " |-- _LastEditorUserId: long (nullable = true)\n",
            " |-- _OwnerDisplayName: string (nullable = true)\n",
            " |-- _OwnerUserId: long (nullable = true)\n",
            " |-- _ParentId: long (nullable = true)\n",
            " |-- _PostTypeId: long (nullable = true)\n",
            " |-- _Score: long (nullable = true)\n",
            " |-- _Tags: string (nullable = true)\n",
            " |-- _Title: string (nullable = true)\n",
            " |-- _ViewCount: long (nullable = true)\n",
            "\n",
            "\n",
            "\n",
            "Data:\n",
            "+-----------------+------------+--------------------+-----------+-------------+--------------------+--------------------+--------------+---+--------------------+--------------------+----------------------+-----------------+-----------------+------------+---------+-----------+------+--------------------+--------------------+----------+\n",
            "|_AcceptedAnswerId|_AnswerCount|               _Body|_ClosedDate|_CommentCount| _CommunityOwnedDate|       _CreationDate|_FavoriteCount|_Id|   _LastActivityDate|       _LastEditDate|_LastEditorDisplayName|_LastEditorUserId|_OwnerDisplayName|_OwnerUserId|_ParentId|_PostTypeId|_Score|               _Tags|              _Title|_ViewCount|\n",
            "+-----------------+------------+--------------------+-----------+-------------+--------------------+--------------------+--------------+---+--------------------+--------------------+----------------------+-----------------+-----------------+------------+---------+-----------+------+--------------------+--------------------+----------+\n",
            "|                7|          13|<p>I want to use ...|       NULL|            2|2012-10-31 16:42:...|2008-07-31 21:42:...|            48|  4|2019-07-19 01:39:...|2019-07-19 01:39:...|                Rich B|          3641067|             NULL|           8|     NULL|          1|   630|<c#><floating-poi...|Convert Decimal t...|     42817|\n",
            "|               31|           6|<p>I have an abso...|       NULL|            0|                NULL|2008-07-31 22:08:...|            10|  6|2019-07-19 01:43:...|2019-07-19 01:43:...|                Rich B|          3641067|             NULL|           9|     NULL|          1|   281|<html><css><inter...|Percentage width ...|     18214|\n",
            "+-----------------+------------+--------------------+-----------+-------------+--------------------+--------------------+--------------+---+--------------------+--------------------+----------------------+-----------------+-----------------+------------+---------+-----------+------+--------------------+--------------------+----------+\n",
            "only showing top 2 rows\n",
            "\n",
            "\n",
            "\n",
            "Summary:\n",
            "+-------+--------------------+------------------+--------------------+------------------+------------------+--------------------+----------------------+------------------+-----------------+------------------+--------------------+------------------+------------------+-----------------+--------------------+------------------+\n",
            "|summary|   _AcceptedAnswerId|      _AnswerCount|               _Body|     _CommentCount|    _FavoriteCount|                 _Id|_LastEditorDisplayName| _LastEditorUserId|_OwnerDisplayName|      _OwnerUserId|           _ParentId|       _PostTypeId|            _Score|            _Tags|              _Title|        _ViewCount|\n",
            "+-------+--------------------+------------------+--------------------+------------------+------------------+--------------------+----------------------+------------------+-----------------+------------------+--------------------+------------------+------------------+-----------------+--------------------+------------------+\n",
            "|  count|                9510|             18055|               46006|             46006|              4114|               46006|                   306|             18283|             1041|             45459|               27863|             46006|             46006|            18055|               18055|             18055|\n",
            "|   mean|2.7162224087907467E7|1.5406258654112435|                NULL| 1.627678998391514|2.8410306271268837| 2.841079576779116E7|                  NULL|2299741.6452989117|             NULL|2738545.1534129656|2.5664491707353838E7|1.6123549102291006| 2.605855757944616|             NULL|                NULL| 2390.661589587372|\n",
            "| stddev|1.6554270224830523E7| 1.563896119203063|                NULL|2.4710189057187044|15.552832509977994|1.6842348816968918E7|                  NULL|  2591596.07436971|             NULL|2768762.4204269676|1.6844008378592387E7|0.5047053344290593|23.783318848732357|             NULL|                NULL|27131.390062048562|\n",
            "|    min|                   7|                 0|                    |                 0|                 0|                   4|     &#211;lafur Waage|                -1|&#211;lafur Waage|                -1|                   4|                 1|               -21|      <.htaccess>|\"&\" or \"&amp;\" in...|                 2|\n",
            "|    max|            57735208|                63|react-spring is a...|                44|               539|            57743417|            zacherates|          11985504|             ʞɔıu|          12001913|            57743358|                 5|              2683|<zurb-foundation>|“error validating...|           3042469|\n",
            "+-------+--------------------+------------------+--------------------+------------------+------------------+--------------------+----------------------+------------------+-----------------+------------------+--------------------+------------------+------------------+-----------------+--------------------+------------------+\n",
            "\n"
          ]
        }
      ]
    },
    {
      "cell_type": "code",
      "source": [
        "print(\"Schema: \")\n",
        "langData.printSchema()\n",
        "print(\"\\n\\nData:\")\n",
        "langData.show(n = 2)\n",
        "print(\"\\n\\nSummary:\")\n",
        "langData.describe().show()"
      ],
      "metadata": {
        "colab": {
          "base_uri": "https://localhost:8080/"
        },
        "id": "Pv1kXHaJrx6s",
        "outputId": "a52293d9-be99-4ea7-bc4a-6433dce9c751"
      },
      "execution_count": null,
      "outputs": [
        {
          "output_type": "stream",
          "name": "stdout",
          "text": [
            "Schema: \n",
            "root\n",
            " |-- name: string (nullable = true)\n",
            " |-- wikipedia_url: string (nullable = true)\n",
            "\n",
            "\n",
            "\n",
            "Data:\n",
            "+----------+--------------------+\n",
            "|      name|       wikipedia_url|\n",
            "+----------+--------------------+\n",
            "|   A# .NET|https://en.wikipe...|\n",
            "|A# (Axiom)|https://en.wikipe...|\n",
            "+----------+--------------------+\n",
            "only showing top 2 rows\n",
            "\n",
            "\n",
            "\n",
            "Summary:\n",
            "+-------+--------+--------------------+\n",
            "|summary|    name|       wikipedia_url|\n",
            "+-------+--------+--------------------+\n",
            "|  count|     699|                 699|\n",
            "|   mean|    NULL|                NULL|\n",
            "| stddev|    NULL|                NULL|\n",
            "|    min|@Formula|https://en.wikipe...|\n",
            "|    max|xHarbour|https://en.wikipe...|\n",
            "+-------+--------+--------------------+\n",
            "\n"
          ]
        }
      ]
    },
    {
      "cell_type": "code",
      "source": [
        "# Отбираем посты в необходимом периоде\n",
        "posts_in_period = postsData.filter(F.col(\"_CreationDate\").between(*(\"2010-01-01\",  \"2020-12-31\")))"
      ],
      "metadata": {
        "id": "GW6TpdMIVWqW"
      },
      "execution_count": null,
      "outputs": []
    },
    {
      "cell_type": "code",
      "source": [
        "# Отбираем названия языков программирования\n",
        "lang_names = [str(x[0]) for x in langData.collect()]\n",
        "lang_names[:10]"
      ],
      "metadata": {
        "colab": {
          "base_uri": "https://localhost:8080/"
        },
        "id": "WpGHtSCybYA7",
        "outputId": "89e607c1-8d38-445e-9a5a-cdc025d23208"
      },
      "execution_count": null,
      "outputs": [
        {
          "output_type": "execute_result",
          "data": {
            "text/plain": [
              "['A# .NET',\n",
              " 'A# (Axiom)',\n",
              " 'A-0 System',\n",
              " 'A+',\n",
              " 'A++',\n",
              " 'ABAP',\n",
              " 'ABC',\n",
              " 'ABC ALGOL',\n",
              " 'ABSET',\n",
              " 'ABSYS']"
            ]
          },
          "metadata": {},
          "execution_count": 13
        }
      ]
    },
    {
      "cell_type": "code",
      "source": [
        "# Функция формирования тега языка программирования для поста\n",
        "def include_name(x):\n",
        "    tag = None\n",
        "    for name in lang_names:\n",
        "        n = '<' + name.lower() + '>'\n",
        "        if n in str(x._Tags).lower():\n",
        "            tag = name\n",
        "            break\n",
        "    if tag is None:\n",
        "        tag = 'No'\n",
        "\n",
        "    return (x[6], tag)\n"
      ],
      "metadata": {
        "id": "EXlijuEubjQl"
      },
      "execution_count": null,
      "outputs": []
    },
    {
      "cell_type": "code",
      "source": [
        "# Применение функции к данным и их фильтрация\n",
        "posts_in_period_ = posts_in_period.rdd.map(include_name).filter(lambda x: x[1] != 'No')\n",
        "\n",
        "# Группировка данных, подсчет количества записей и их сортировка\n",
        "posts_by_date_rdd_group = posts_in_period_.keyBy(lambda row: (row[0].year, row[1])).aggregateByKey(0, lambda x, y: x + 1, lambda x1, x2: x1 + x2).sortBy(lambda x: x[1], ascending=False).collect()\n",
        "\n",
        "# Генерация списка годов\n",
        "years = [i for i in range(2020, 2009, -1)]\n",
        "\n",
        "# Формирование топа языков для каждого года\n",
        "df_by_years = []\n",
        "for year in years:\n",
        "  df_by_years.extend([row for row in posts_by_date_rdd_group if row[0][0] == year][:10])"
      ],
      "metadata": {
        "id": "iZpuC1dVdB2e"
      },
      "execution_count": null,
      "outputs": []
    },
    {
      "cell_type": "code",
      "source": [
        "# Формирование итогового датафрейма\n",
        "row_template = Row('Year', 'Language', 'Count')\n",
        "result_df = spark.createDataFrame([row_template(*x, y) for x, y in df_by_years])\n",
        "\n",
        "# Сохранение отчета\n",
        "result_df.write.parquet(\"top_langs.paquet\")\n",
        "result_df.show()"
      ],
      "metadata": {
        "colab": {
          "base_uri": "https://localhost:8080/"
        },
        "id": "RaqNsnHKy_t0",
        "outputId": "18f81a5d-276d-497f-bb88-be531ab21551"
      },
      "execution_count": null,
      "outputs": [
        {
          "output_type": "stream",
          "name": "stdout",
          "text": [
            "+----+----------+-----+\n",
            "|Year|  Language|Count|\n",
            "+----+----------+-----+\n",
            "|2019|    Python|  162|\n",
            "|2019|JavaScript|  131|\n",
            "|2019|      Java|   95|\n",
            "|2019|       PHP|   59|\n",
            "|2019|         R|   36|\n",
            "|2019|         C|   14|\n",
            "|2019|      Dart|    9|\n",
            "|2019|    MATLAB|    9|\n",
            "|2019|        Go|    9|\n",
            "|2019|      Bash|    8|\n",
            "|2018|    Python|  214|\n",
            "|2018|JavaScript|  196|\n",
            "|2018|      Java|  145|\n",
            "|2018|       PHP|   99|\n",
            "|2018|         R|   63|\n",
            "|2018|         C|   24|\n",
            "|2018|     Scala|   22|\n",
            "|2018|TypeScript|   21|\n",
            "|2018|PowerShell|   13|\n",
            "|2018|      Bash|   12|\n",
            "+----+----------+-----+\n",
            "only showing top 20 rows\n",
            "\n"
          ]
        }
      ]
    }
  ]
}